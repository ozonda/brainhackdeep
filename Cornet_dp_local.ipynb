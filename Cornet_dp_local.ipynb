{
 "cells": [
  {
   "cell_type": "code",
   "execution_count": 1,
   "metadata": {},
   "outputs": [
    {
     "name": "stdout",
     "output_type": "stream",
     "text": [
      "[Errno 2] No such file or directory: '/content/CORnet/'\n",
      "/Users/goodalelab/Desktop/BrainHackDeep\n"
     ]
    }
   ],
   "source": [
    "cd /content/CORnet/"
   ]
  },
  {
   "cell_type": "code",
   "execution_count": 2,
   "metadata": {},
   "outputs": [
    {
     "data": {
      "text/plain": [
       "'/Users/goodalelab/Desktop/BrainHackDeep'"
      ]
     },
     "execution_count": 2,
     "metadata": {},
     "output_type": "execute_result"
    }
   ],
   "source": [
    "pwd"
   ]
  },
  {
   "cell_type": "code",
   "execution_count": 3,
   "metadata": {},
   "outputs": [
    {
     "name": "stdout",
     "output_type": "stream",
     "text": [
      "Cloning into 'CORnet'...\n",
      "remote: Enumerating objects: 34, done.\u001b[K\n",
      "remote: Counting objects: 100% (34/34), done.\u001b[K\n",
      "remote: Compressing objects: 100% (25/25), done.\u001b[K\n",
      "remote: Total 135 (delta 15), reused 21 (delta 9), pack-reused 101\u001b[K\n",
      "Receiving objects: 100% (135/135), 64.55 KiB | 1.79 MiB/s, done.\n",
      "Resolving deltas: 100% (70/70), done.\n"
     ]
    }
   ],
   "source": [
    "!git clone https://github.com/dicarlolab/CORnet"
   ]
  },
  {
   "cell_type": "code",
   "execution_count": 4,
   "metadata": {},
   "outputs": [
    {
     "name": "stdout",
     "output_type": "stream",
     "text": [
      "[Errno 2] No such file or directory: '/CORnet/'\n",
      "/Users/goodalelab/Desktop/BrainHackDeep\n"
     ]
    }
   ],
   "source": [
    "cd /CORnet/"
   ]
  },
  {
   "cell_type": "code",
   "execution_count": 5,
   "metadata": {},
   "outputs": [
    {
     "name": "stdout",
     "output_type": "stream",
     "text": [
      "/Users/goodalelab/Desktop/BrainHackDeep/CORnet\n"
     ]
    }
   ],
   "source": [
    "cd CORnet"
   ]
  },
  {
   "cell_type": "code",
   "execution_count": 6,
   "metadata": {},
   "outputs": [],
   "source": [
    "!mkdir Results"
   ]
  },
  {
   "cell_type": "code",
   "execution_count": 7,
   "metadata": {},
   "outputs": [],
   "source": [
    "!mkdir ImageNetTest"
   ]
  },
  {
   "cell_type": "code",
   "execution_count": 19,
   "metadata": {},
   "outputs": [],
   "source": [
    "!mv ImageNet_Reduced/*JPEG ImageNetTest"
   ]
  },
  {
   "cell_type": "code",
   "execution_count": 35,
   "metadata": {},
   "outputs": [
    {
     "name": "stdout",
     "output_type": "stream",
     "text": [
      "Traceback (most recent call last):\r\n",
      "  File \"run.py\", line 83, in <module>\r\n",
      "    set_gpus(FLAGS.ngpus)\r\n",
      "  File \"run.py\", line 69, in set_gpus\r\n",
      "    'nvidia-smi --query-gpu=index,memory.free,memory.total --format=csv,nounits'), check=True, stdout=subprocess.PIPE).stdout\r\n",
      "  File \"/anaconda3/lib/python3.7/subprocess.py\", line 466, in run\r\n",
      "    with Popen(*popenargs, **kwargs) as process:\r\n",
      "  File \"/anaconda3/lib/python3.7/subprocess.py\", line 769, in __init__\r\n",
      "    restore_signals, start_new_session)\r\n",
      "  File \"/anaconda3/lib/python3.7/subprocess.py\", line 1516, in _execute_child\r\n",
      "    raise child_exception_type(errno_num, err_msg, err_filename)\r\n",
      "FileNotFoundError: [Errno 2] No such file or directory: 'nvidia-smi': 'nvidia-smi'\r\n"
     ]
    }
   ],
   "source": [
    "!python run.py test --ngpus 1 --model S --data_path CORnet/ImageNetTest -o CORnet/Results"
   ]
  },
  {
   "cell_type": "code",
   "execution_count": 23,
   "metadata": {},
   "outputs": [],
   "source": [
    "import os"
   ]
  },
  {
   "cell_type": "code",
   "execution_count": 30,
   "metadata": {},
   "outputs": [
    {
     "name": "stdout",
     "output_type": "stream",
     "text": [
      "Collecting fire\n",
      "\u001b[?25l  Downloading https://files.pythonhosted.org/packages/d9/69/faeaae8687f4de0f5973694d02e9d6c3eb827636a009157352d98de1129e/fire-0.2.1.tar.gz (76kB)\n",
      "\u001b[K    100% |████████████████████████████████| 81kB 2.0MB/s ta 0:00:01\n",
      "\u001b[?25hRequirement already satisfied: six in /anaconda3/lib/python3.7/site-packages (from fire) (1.12.0)\n",
      "Collecting termcolor (from fire)\n",
      "Building wheels for collected packages: fire\n",
      "  Running setup.py bdist_wheel for fire ... \u001b[?25ldone\n",
      "\u001b[?25h  Stored in directory: /Users/goodalelab/Library/Caches/pip/wheels/31/9c/c0/07b6dc7faf1844bb4688f46b569efe6cafaa2179c95db821da\n",
      "Successfully built fire\n",
      "Installing collected packages: termcolor, fire\n",
      "Successfully installed fire-0.2.1 termcolor-1.1.0\n"
     ]
    }
   ],
   "source": [
    "!pip install fire"
   ]
  },
  {
   "cell_type": "code",
   "execution_count": 32,
   "metadata": {},
   "outputs": [
    {
     "name": "stdout",
     "output_type": "stream",
     "text": [
      "Collecting torch\n",
      "\u001b[?25l  Downloading https://files.pythonhosted.org/packages/7e/94/0ed9f7899aa0f5e7ff753a3a2b6944c146eef3f4cd51c59ab07c4575992b/torch-1.3.1-cp37-none-macosx_10_7_x86_64.whl (71.1MB)\n",
      "\u001b[K    100% |████████████████████████████████| 71.1MB 930kB/s eta 0:00:011\n",
      "\u001b[?25hRequirement already satisfied: numpy in /anaconda3/lib/python3.7/site-packages (from torch) (1.15.4)\n",
      "Installing collected packages: torch\n",
      "Successfully installed torch-1.3.1\n"
     ]
    }
   ],
   "source": [
    "!pip install torch"
   ]
  },
  {
   "cell_type": "code",
   "execution_count": 34,
   "metadata": {},
   "outputs": [
    {
     "name": "stdout",
     "output_type": "stream",
     "text": [
      "Collecting git+https://github.com/dicarlolab/CORnet\n",
      "  Cloning https://github.com/dicarlolab/CORnet to /private/var/folders/7k/9zgt4j1j071chyctbnw_c0cr0000gp/T/pip-req-build-d1vx6ery\n",
      "Requirement already satisfied: torch>=0.4.0+ in /anaconda3/lib/python3.7/site-packages (from CORnet==0.1.0) (1.3.1)\n",
      "Collecting torchvision (from CORnet==0.1.0)\n",
      "\u001b[?25l  Downloading https://files.pythonhosted.org/packages/fa/71/0e76ba50c8c9aeb8349d827d02278c1b5eb4da9cdc17ca26b5bd47ec034a/torchvision-0.4.2-cp37-cp37m-macosx_10_7_x86_64.whl (641kB)\n",
      "\u001b[K    100% |████████████████████████████████| 645kB 6.3MB/s ta 0:00:01\n",
      "\u001b[?25hRequirement already satisfied: numpy in /anaconda3/lib/python3.7/site-packages (from CORnet==0.1.0) (1.15.4)\n",
      "Requirement already satisfied: pandas in /anaconda3/lib/python3.7/site-packages (from CORnet==0.1.0) (0.23.4)\n",
      "Requirement already satisfied: tqdm in /anaconda3/lib/python3.7/site-packages (from CORnet==0.1.0) (4.28.1)\n",
      "Requirement already satisfied: fire in /anaconda3/lib/python3.7/site-packages (from CORnet==0.1.0) (0.2.1)\n",
      "Requirement already satisfied: six in /anaconda3/lib/python3.7/site-packages (from torchvision->CORnet==0.1.0) (1.12.0)\n",
      "Requirement already satisfied: pillow>=4.1.1 in /anaconda3/lib/python3.7/site-packages (from torchvision->CORnet==0.1.0) (5.3.0)\n",
      "Requirement already satisfied: python-dateutil>=2.5.0 in /anaconda3/lib/python3.7/site-packages (from pandas->CORnet==0.1.0) (2.7.5)\n",
      "Requirement already satisfied: pytz>=2011k in /anaconda3/lib/python3.7/site-packages (from pandas->CORnet==0.1.0) (2018.7)\n",
      "Requirement already satisfied: termcolor in /anaconda3/lib/python3.7/site-packages (from fire->CORnet==0.1.0) (1.1.0)\n",
      "Building wheels for collected packages: CORnet\n",
      "  Running setup.py bdist_wheel for CORnet ... \u001b[?25ldone\n",
      "\u001b[?25h  Stored in directory: /private/var/folders/7k/9zgt4j1j071chyctbnw_c0cr0000gp/T/pip-ephem-wheel-cache-vj_mr531/wheels/63/f8/bc/046ed7c6f5e4ae72f74d2242cc349f458812fa8c39e3649abe\n",
      "Successfully built CORnet\n",
      "Installing collected packages: torchvision, CORnet\n",
      "Successfully installed CORnet-0.1.0 torchvision-0.4.2\n"
     ]
    }
   ],
   "source": [
    "!pip install git+https://github.com/dicarlolab/CORnet"
   ]
  },
  {
   "cell_type": "markdown",
   "metadata": {},
   "source": [
    "#### "
   ]
  },
  {
   "cell_type": "code",
   "execution_count": 37,
   "metadata": {},
   "outputs": [
    {
     "ename": "SyntaxError",
     "evalue": "invalid syntax (<ipython-input-37-68d91af2c522>, line 1)",
     "output_type": "error",
     "traceback": [
      "\u001b[0;36m  File \u001b[0;32m\"<ipython-input-37-68d91af2c522>\"\u001b[0;36m, line \u001b[0;32m1\u001b[0m\n\u001b[0;31m    sudo apt -get install -y -nvidia\u001b[0m\n\u001b[0m           ^\u001b[0m\n\u001b[0;31mSyntaxError\u001b[0m\u001b[0;31m:\u001b[0m invalid syntax\n"
     ]
    }
   ],
   "source": [
    "sudo apt -get install -y -nvidia"
   ]
  },
  {
   "cell_type": "code",
   "execution_count": null,
   "metadata": {},
   "outputs": [],
   "source": []
  }
 ],
 "metadata": {
  "kernelspec": {
   "display_name": "Python 3",
   "language": "python",
   "name": "python3"
  },
  "language_info": {
   "codemirror_mode": {
    "name": "ipython",
    "version": 3
   },
   "file_extension": ".py",
   "mimetype": "text/x-python",
   "name": "python",
   "nbconvert_exporter": "python",
   "pygments_lexer": "ipython3",
   "version": "3.7.1"
  }
 },
 "nbformat": 4,
 "nbformat_minor": 2
}
