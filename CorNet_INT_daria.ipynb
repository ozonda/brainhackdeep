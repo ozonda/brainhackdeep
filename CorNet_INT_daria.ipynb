{
  "nbformat": 4,
  "nbformat_minor": 0,
  "metadata": {
    "colab": {
      "name": "Copy of CorNet_INT_daria.ipynb",
      "provenance": [],
      "collapsed_sections": []
    },
    "kernelspec": {
      "name": "python3",
      "display_name": "Python 3"
    },
    "accelerator": "GPU"
  },
  "cells": [
    {
      "cell_type": "markdown",
      "metadata": {
        "id": "WjiXqIX1T4A1",
        "colab_type": "text"
      },
      "source": [
        "**BrainHackDeep:** CORnets with 2010 *test* images + 2012 *sreduced validation* images + all labels\n",
        "\n",
        "**BrainHackDeep2:** 2012 *test* images"
      ]
    },
    {
      "cell_type": "code",
      "metadata": {
        "id": "PzOuUcLjD8Iy",
        "colab_type": "code",
        "colab": {}
      },
      "source": [
        "!git clone https://github.com/etousi/BrainHackDeep.git"
      ],
      "execution_count": 0,
      "outputs": []
    },
    {
      "cell_type": "code",
      "metadata": {
        "id": "fQecdlHfC0sr",
        "colab_type": "code",
        "colab": {}
      },
      "source": [
        "!git clone https://github.com/etousi/BrainHackDeep2.git"
      ],
      "execution_count": 0,
      "outputs": []
    },
    {
      "cell_type": "markdown",
      "metadata": {
        "id": "W6FaOov9UkfD",
        "colab_type": "text"
      },
      "source": [
        "**Making Folders for Imagesets and results:**"
      ]
    },
    {
      "cell_type": "code",
      "metadata": {
        "id": "YPWpJtt0EOy_",
        "colab_type": "code",
        "colab": {}
      },
      "source": [
        "mkdir Results"
      ],
      "execution_count": 0,
      "outputs": []
    },
    {
      "cell_type": "code",
      "metadata": {
        "id": "elHPufyuD40s",
        "colab_type": "code",
        "colab": {}
      },
      "source": [
        "mkdir Results/CORZResults2010"
      ],
      "execution_count": 0,
      "outputs": []
    },
    {
      "cell_type": "code",
      "metadata": {
        "id": "lYdyT2BdD6vE",
        "colab_type": "code",
        "colab": {}
      },
      "source": [
        "mkdir Results/CORZResults2012"
      ],
      "execution_count": 0,
      "outputs": []
    },
    {
      "cell_type": "code",
      "metadata": {
        "id": "Ok9kXh4Hec21",
        "colab_type": "code",
        "colab": {}
      },
      "source": [
        "mkdir ImageNetTest2010"
      ],
      "execution_count": 0,
      "outputs": []
    },
    {
      "cell_type": "code",
      "metadata": {
        "id": "i01FSqMCDDEq",
        "colab_type": "code",
        "colab": {}
      },
      "source": [
        "mkdir ImageNetTest2012"
      ],
      "execution_count": 0,
      "outputs": []
    },
    {
      "cell_type": "markdown",
      "metadata": {
        "id": "t4RteuyHUvxr",
        "colab_type": "text"
      },
      "source": [
        "**Copying 2010 test images**"
      ]
    },
    {
      "cell_type": "code",
      "metadata": {
        "id": "BMH_IadjEoFY",
        "colab_type": "code",
        "colab": {}
      },
      "source": [
        "mv BrainHackDeep/ImageNet_Reduced/*JPEG ImageNetTest2010"
      ],
      "execution_count": 0,
      "outputs": []
    },
    {
      "cell_type": "code",
      "metadata": {
        "id": "3wdE36o6STEm",
        "colab_type": "code",
        "colab": {}
      },
      "source": [
        "mv BrainHackDeep/ImageNet_Reduced2/*JPEG ImageNetTest2010"
      ],
      "execution_count": 0,
      "outputs": []
    },
    {
      "cell_type": "code",
      "metadata": {
        "id": "3E1fOzFdSVRc",
        "colab_type": "code",
        "colab": {}
      },
      "source": [
        "mv BrainHackDeep/ImageNet_Reduced3/*JPEG ImageNetTest2010"
      ],
      "execution_count": 0,
      "outputs": []
    },
    {
      "cell_type": "code",
      "metadata": {
        "id": "FfnDh-CUSXFM",
        "colab_type": "code",
        "colab": {}
      },
      "source": [
        "mv BrainHackDeep/ImageNet_Reduced4/*JPEG ImageNetTest2010"
      ],
      "execution_count": 0,
      "outputs": []
    },
    {
      "cell_type": "code",
      "metadata": {
        "id": "CYkyEv-sSZK0",
        "colab_type": "code",
        "colab": {}
      },
      "source": [
        "mv BrainHackDeep/ImageNet_Reduced5/*JPEG ImageNetTest2010"
      ],
      "execution_count": 0,
      "outputs": []
    },
    {
      "cell_type": "markdown",
      "metadata": {
        "id": "R6hGqMztU2vC",
        "colab_type": "text"
      },
      "source": [
        "**Copying 2012 test images:**"
      ]
    },
    {
      "cell_type": "code",
      "metadata": {
        "id": "GP0nCRgSDKki",
        "colab_type": "code",
        "colab": {}
      },
      "source": [
        "mv BrainHackDeep2/ImageNet_Reduced/*JPEG ImageNetTest2012"
      ],
      "execution_count": 0,
      "outputs": []
    },
    {
      "cell_type": "code",
      "metadata": {
        "id": "ZS78RjiPSdzk",
        "colab_type": "code",
        "colab": {}
      },
      "source": [
        "mv BrainHackDeep2/ImageNet_Reduced2/*JPEG ImageNetTest2012"
      ],
      "execution_count": 0,
      "outputs": []
    },
    {
      "cell_type": "code",
      "metadata": {
        "id": "STjLP5oRSfn6",
        "colab_type": "code",
        "colab": {}
      },
      "source": [
        "mv BrainHackDeep2/ImageNet_Reduced3/*JPEG ImageNetTest2012"
      ],
      "execution_count": 0,
      "outputs": []
    },
    {
      "cell_type": "code",
      "metadata": {
        "id": "nx9IPiiDShcy",
        "colab_type": "code",
        "colab": {}
      },
      "source": [
        "mv BrainHackDeep2/ImageNet_Reduced4/*JPEG ImageNetTest2012"
      ],
      "execution_count": 0,
      "outputs": []
    },
    {
      "cell_type": "code",
      "metadata": {
        "id": "qusOeMpRSjh6",
        "colab_type": "code",
        "colab": {}
      },
      "source": [
        "mv BrainHackDeep2/ImageNet_Reduced5/*JPEG ImageNetTest2012"
      ],
      "execution_count": 0,
      "outputs": []
    },
    {
      "cell_type": "markdown",
      "metadata": {
        "id": "zn8yKTnXU_cx",
        "colab_type": "text"
      },
      "source": [
        "**Running CORnets:**"
      ]
    },
    {
      "cell_type": "code",
      "metadata": {
        "id": "6-LwRDE9gcsL",
        "colab_type": "code",
        "colab": {}
      },
      "source": [
        "pip install fire"
      ],
      "execution_count": 0,
      "outputs": []
    },
    {
      "cell_type": "code",
      "metadata": {
        "id": "5FR2rNwiHYMr",
        "colab_type": "code",
        "colab": {}
      },
      "source": [
        "!python /content/BrainHackDeep/CORnet/run.py test --ngpus 2 --model S --data_path /content/ImageNetTest2010  -o /content/Results/CORZResults2010"
      ],
      "execution_count": 0,
      "outputs": []
    },
    {
      "cell_type": "code",
      "metadata": {
        "id": "XOhZZOR0Eop_",
        "colab_type": "code",
        "colab": {}
      },
      "source": [
        "!python /content/BrainHackDeep/CORnet/run.py test --ngpus 1 --model R --data_path /content/ImageNetTest2012  -o /content/Results/CORZResults2012"
      ],
      "execution_count": 0,
      "outputs": []
    },
    {
      "cell_type": "markdown",
      "metadata": {
        "id": "KUAV60eeVHon",
        "colab_type": "text"
      },
      "source": [
        "**Loading the labels and calculating the performance:**"
      ]
    },
    {
      "cell_type": "code",
      "metadata": {
        "id": "e_32eYCpTbdg",
        "colab_type": "code",
        "colab": {}
      },
      "source": [
        "import pickle\n",
        "def save_obj(obj, name ):\n",
        "    with open(name + '.pkl', 'wb') as f:\n",
        "        pickle.dump(obj, f, pickle.HIGHEST_PROTOCOL)#rm -r BrainHackDeep2"
      ],
      "execution_count": 0,
      "outputs": []
    },
    {
      "cell_type": "code",
      "metadata": {
        "id": "7ooUwBHGTdJQ",
        "colab_type": "code",
        "colab": {}
      },
      "source": [
        "import numpy as np\n",
        "outputsCORZ2012=np.load('Results/CORZResults2012/CORnet-S_decoder_output_feats.npy')\n",
        "toponepredcorz12 = outputsCORZ2012.argmax(1)\n",
        "topfivepredcorz12 = outputsCORZ2012.argsort()[:,-5:] \n",
        "\n",
        "with open('/content/BrainHackDeep/ILSVRC2012_validation_ground_truth_reduced_recoded.txt') as ff:\n",
        " classes = [line.strip() for line in ff.readlines()]\n",
        "classesint = [int(i) for i in classes]\n",
        "\n",
        "corztoponedec = np.array(classesint) == toponepredcorz12\n",
        "\n",
        "topfiveresult = np.zeros(5000)\n",
        "\n",
        "for i in range(5000):\n",
        "  if np.array(classesint[i]) in topfivepredcorz12[i]:\n",
        "    topfiveresult[i]=1\n",
        "    \n",
        "\n",
        "topfiveaccuracy = np.divide(sum(topfiveresult),5000)\n",
        "toponeaccuracy = np.divide(sum(corztoponedec),5000)\n",
        "\n",
        "print(topfiveaccuracy)\n",
        "print(toponeaccuracy)\n",
        "\n",
        "np.save('topfiveresultS', topfiveresult, allow_pickle=True, fix_imports=True)"
      ],
      "execution_count": 0,
      "outputs": []
    }
  ]
}