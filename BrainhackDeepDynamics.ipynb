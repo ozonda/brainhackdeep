{
 "cells": [
  {
   "cell_type": "code",
   "execution_count": 0,
   "metadata": {
    "colab": {},
    "colab_type": "code",
    "id": "b-ljrkHYj3Ar"
   },
   "outputs": [],
   "source": [
    "import torch\n",
    "import os"
   ]
  },
  {
   "cell_type": "code",
   "execution_count": 0,
   "metadata": {
    "colab": {},
    "colab_type": "code",
    "id": "Sa9leYLskMeK"
   },
   "outputs": [],
   "source": [
    "!pip install torchvision"
   ]
  },
  {
   "cell_type": "code",
   "execution_count": 0,
   "metadata": {
    "colab": {},
    "colab_type": "code",
    "id": "wnFiNyVLkG3r"
   },
   "outputs": [],
   "source": [
    "from torchvision import models"
   ]
  },
  {
   "cell_type": "code",
   "execution_count": 0,
   "metadata": {
    "colab": {},
    "colab_type": "code",
    "id": "Q42puqdEheBd"
   },
   "outputs": [],
   "source": [
    "!wget \"https://github.com/etousi/BrainHackDeep/raw/master/96images.zip\"\n",
    "!wget \"https://github.com/etousi/BrainHackDeep/raw/master/96images_occlusion.zip\"\n",
    "!mkdir \"/content/K96\"\n",
    "!mkdir \"/content/K96/Koriginal\"\n",
    "!mkdir \"/content/K96/Koccluded\"\n",
    "!unzip \"/content/96images.zip\" -d \"/content/K96/Koriginal\"\n",
    "!unzip \"/content/96images_occlusion.zip\" -d \"/content/K96/Koccluded\""
   ]
  },
  {
   "cell_type": "code",
   "execution_count": 0,
   "metadata": {
    "colab": {},
    "colab_type": "code",
    "id": "xyUUydOb4Tci"
   },
   "outputs": [],
   "source": [
    "#!rm /content/96images.zip\n",
    "#!rm /content/96images_occlusion.zip"
   ]
  },
  {
   "cell_type": "code",
   "execution_count": 0,
   "metadata": {
    "colab": {},
    "colab_type": "code",
    "id": "QplSTehWkI_Z"
   },
   "outputs": [],
   "source": [
    "alexnet = models.alexnet(pretrained=True)"
   ]
  },
  {
   "cell_type": "code",
   "execution_count": 0,
   "metadata": {
    "colab": {},
    "colab_type": "code",
    "id": "CAXPVHo8rZhR"
   },
   "outputs": [],
   "source": [
    "from torchvision import transforms\n",
    "transform = transforms.Compose([            #[1]\n",
    " transforms.Resize(256),                    #[2]\n",
    " transforms.CenterCrop(224),                #[3]\n",
    " transforms.ToTensor(),                     #[4]\n",
    " transforms.Normalize(                      #[5]\n",
    " mean=[0.485, 0.456, 0.406],                #[6]\n",
    " std=[0.229, 0.224, 0.225]                  #[7]\n",
    " )])"
   ]
  },
  {
   "cell_type": "code",
   "execution_count": 0,
   "metadata": {
    "colab": {},
    "colab_type": "code",
    "id": "pL_qUz5QrbIX"
   },
   "outputs": [],
   "source": [
    "from PIL import Image"
   ]
  },
  {
   "cell_type": "code",
   "execution_count": 0,
   "metadata": {
    "colab": {},
    "colab_type": "code",
    "id": "UeVL8H-wLIR6"
   },
   "outputs": [],
   "source": [
    "os.listdir(\"/content/K96/\")"
   ]
  },
  {
   "cell_type": "markdown",
   "metadata": {
    "colab_type": "text",
    "id": "ogVcsDvCBfrV"
   },
   "source": [
    "**Testing K96original with Alexnet:**"
   ]
  },
  {
   "cell_type": "code",
   "execution_count": 0,
   "metadata": {
    "colab": {},
    "colab_type": "code",
    "id": "cK_qhxKDwjUB"
   },
   "outputs": [],
   "source": [
    "K96orig_list = os.listdir(\"/content/K96/Koriginal\")\n",
    "features = torch.zeros(len(K96orig_list), 1000)\n",
    "for ind, f in enumerate(K96orig_list):\n",
    "  img = Image.open(\"/content/K96/Koriginal/\"+f)\n",
    "  img_t = transform(img)\n",
    "  batch_t = torch.unsqueeze(img_t, 0)\n",
    "  alexnet.eval()\n",
    "  out = alexnet(batch_t)\n",
    "  print(out.shape)\n",
    "  features[ind] = out"
   ]
  },
  {
   "cell_type": "code",
   "execution_count": 0,
   "metadata": {
    "colab": {},
    "colab_type": "code",
    "id": "RiiBB-KX_Qgo"
   },
   "outputs": [],
   "source": [
    "features"
   ]
  }
 ],
 "metadata": {
  "accelerator": "GPU",
  "colab": {
   "collapsed_sections": [],
   "name": "BrainhackDeepDynamics.ipynb",
   "provenance": []
  },
  "kernelspec": {
   "display_name": "Python 3",
   "language": "python",
   "name": "python3"
  },
  "language_info": {
   "codemirror_mode": {
    "name": "ipython",
    "version": 3
   },
   "file_extension": ".py",
   "mimetype": "text/x-python",
   "name": "python",
   "nbconvert_exporter": "python",
   "pygments_lexer": "ipython3",
   "version": "3.7.1"
  }
 },
 "nbformat": 4,
 "nbformat_minor": 1
}
